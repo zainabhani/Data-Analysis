{
 "cells": [
  {
   "cell_type": "markdown",
   "id": "560fba96-6c86-4b07-9c84-4a2eea3774d1",
   "metadata": {},
   "source": [
    "# Data Science Tools and Ecosystem"
   ]
  },
  {
   "cell_type": "markdown",
   "id": "910e31c0-2e63-4354-adb5-5745001047a7",
   "metadata": {},
   "source": [
    "In this notebook, Data Science Tools and Ecosystem are summarized."
   ]
  },
  {
   "cell_type": "markdown",
   "id": "a81b2e8f-2712-49d4-abf1-3103e57f8e79",
   "metadata": {
    "tags": []
   },
   "source": [
    "Some of the popular languages that Data Scientists use are:\n",
    "1. python\n",
    "2. Java\n",
    "3. R\n",
    "4. SQL"
   ]
  },
  {
   "cell_type": "markdown",
   "id": "65c71cfc-198f-408d-b088-7b67a721ca77",
   "metadata": {},
   "source": [
    "1. Python\n",
    "   - Pandas\n",
    "   - NumPy\n",
    "   - Matplotlib\n",
    "   - SciPy\n",
    "2. R\n",
    "   - ggplot2\n",
    "3. Scala\n",
    "   - Vegas"
   ]
  },
  {
   "cell_type": "markdown",
   "id": "db3eea6a-c332-49a0-bb0d-82356cf9dad1",
   "metadata": {
    "tags": []
   },
   "source": [
    "| Data Science Tools   |\n",
    "|----------------------|\n",
    "| Jupyter      |\n",
    "| RStudio      |\n",
    "| KNIME      |\n"
   ]
  },
  {
   "cell_type": "markdown",
   "id": "85f9e438-c564-47ee-aa01-ef4ba7881291",
   "metadata": {},
   "source": [
    "### Below are a few examples of evaluating arithmetic expressions in Python"
   ]
  },
  {
   "cell_type": "code",
   "execution_count": 7,
   "id": "b75fe9d4-8930-4767-a560-aeddb105d30e",
   "metadata": {
    "tags": []
   },
   "outputs": [
    {
     "data": {
      "text/plain": [
       "17"
      ]
     },
     "execution_count": 7,
     "metadata": {},
     "output_type": "execute_result"
    }
   ],
   "source": [
    "# his a simple arithmetic expression to mutiply then add integers\n",
    "(3*4)+5"
   ]
  },
  {
   "cell_type": "code",
   "execution_count": 11,
   "id": "09850f9f-7e8e-45f6-ad4c-5d09d9868de4",
   "metadata": {
    "tags": []
   },
   "outputs": [
    {
     "name": "stdout",
     "output_type": "stream",
     "text": [
      "3.3333333333333335\n"
     ]
    }
   ],
   "source": [
    "# This will convert 200 minutes to hours by diving by 60\n",
    "m= 200\n",
    "x = m/60\n",
    "print(x)"
   ]
  },
  {
   "cell_type": "markdown",
   "id": "ddcdfef7-650d-4dc6-b38e-a8daad382116",
   "metadata": {},
   "source": [
    "__Objectives:__\n",
    "- List popular languages for Data Science:\n",
    "- commonly used libraries used by Data Scientists\n",
    "- arithmetic expressions in Python\n",
    "- convert minutes to hours"
   ]
  },
  {
   "cell_type": "markdown",
   "id": "a216faca-3d94-4c63-8bae-e271cab91f12",
   "metadata": {},
   "source": [
    "## Author\n",
    "Zainab Hani"
   ]
  }
 ],
 "metadata": {
  "kernelspec": {
   "display_name": "Python",
   "language": "python",
   "name": "conda-env-python-py"
  },
  "language_info": {
   "codemirror_mode": {
    "name": "ipython",
    "version": 3
   },
   "file_extension": ".py",
   "mimetype": "text/x-python",
   "name": "python",
   "nbconvert_exporter": "python",
   "pygments_lexer": "ipython3",
   "version": "3.7.12"
  }
 },
 "nbformat": 4,
 "nbformat_minor": 5
}
